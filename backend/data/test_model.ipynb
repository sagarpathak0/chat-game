{
 "cells": [
  {
   "cell_type": "code",
   "execution_count": 8,
   "metadata": {},
   "outputs": [],
   "source": [
    "import tensorflow as tf\n",
    "import pickle\n",
    "import numpy as np\n",
    "from tensorflow.keras.preprocessing.sequence import pad_sequences\n",
    "import json  # Import json to handle response"
   ]
  },
  {
   "cell_type": "code",
   "execution_count": 9,
   "metadata": {},
   "outputs": [],
   "source": [
    "# 🔄 Load model & tokenizer\n",
    "model = tf.keras.models.load_model(\"emotion_model.h5\")\n",
    "with open(\"tokenizer.pkl\", \"rb\") as f:\n",
    "    tokenizer = pickle.load(f)\n",
    "\n",
    "with open(\"label_encoder.pkl\", \"rb\") as f:\n",
    "    label_encoder = pickle.load(f)\n"
   ]
  },
  {
   "cell_type": "code",
   "execution_count": 10,
   "metadata": {},
   "outputs": [],
   "source": [
    "# 📌 Predict function\n",
    "def predict_emotion(text):\n",
    "    sequence = tokenizer.texts_to_sequences([text])\n",
    "    padded = pad_sequences(sequence, maxlen=50, padding=\"post\", truncating=\"post\")\n",
    "    prediction = model.predict(padded)\n",
    "    predicted_label = np.argmax(prediction)\n",
    "    emotion = label_encoder.inverse_transform([predicted_label])[0]\n",
    "    \n",
    "    # Return the prediction as a JSON response\n",
    "    response = {\n",
    "        'emotion': emotion,\n",
    "        'confidence': np.max(prediction).tolist()  # Optionally include confidence score\n",
    "    }\n",
    "    \n",
    "    return json.dumps(response)  # Convert to JSON string"
   ]
  },
  {
   "cell_type": "code",
   "execution_count": 11,
   "metadata": {},
   "outputs": [
    {
     "name": "stdout",
     "output_type": "stream",
     "text": [
      "1/1 [==============================] - 0s 472ms/step\n",
      "{\"emotion\": \"nervousness\", \"confidence\": 0.42013034224510193}\n",
      "1/1 [==============================] - 0s 18ms/step\n",
      "{\"emotion\": \"approval\", \"confidence\": 0.27913179993629456}\n"
     ]
    }
   ],
   "source": [
    "# 🔍 Test (You can call predict_emotion in your Node.js)\n",
    "print(predict_emotion(\"I am worried about my result\"))\n",
    "print(predict_emotion(\"Honestly at this point I don't think there's anything that will make me feel better. Maybe down the road, but right now nothing is helping. \"))"
   ]
  },
  {
   "cell_type": "code",
   "execution_count": 5,
   "metadata": {},
   "outputs": [
    {
     "name": "stdout",
     "output_type": "stream",
     "text": [
      "2.15.1\n"
     ]
    }
   ],
   "source": [
    "import tensorflow as tf\n",
    "print(tf.__version__)\n"
   ]
  }
 ],
 "metadata": {
  "kernelspec": {
   "display_name": "Python 3",
   "language": "python",
   "name": "python3"
  },
  "language_info": {
   "codemirror_mode": {
    "name": "ipython",
    "version": 3
   },
   "file_extension": ".py",
   "mimetype": "text/x-python",
   "name": "python",
   "nbconvert_exporter": "python",
   "pygments_lexer": "ipython3",
   "version": "3.11.0"
  }
 },
 "nbformat": 4,
 "nbformat_minor": 2
}

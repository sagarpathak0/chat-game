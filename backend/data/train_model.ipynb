{
 "cells": [
  {
   "cell_type": "code",
   "execution_count": 1,
   "metadata": {},
   "outputs": [
    {
     "name": "stdout",
     "output_type": "stream",
     "text": [
      "WARNING:tensorflow:From c:\\Users\\sagar\\AppData\\Local\\Programs\\Python\\Python311\\Lib\\site-packages\\keras\\src\\losses.py:2976: The name tf.losses.sparse_softmax_cross_entropy is deprecated. Please use tf.compat.v1.losses.sparse_softmax_cross_entropy instead.\n",
      "\n"
     ]
    }
   ],
   "source": [
    "import pandas as pd\n",
    "import numpy as np\n",
    "import tensorflow as tf\n",
    "from tensorflow.keras.preprocessing.text import Tokenizer\n",
    "from tensorflow.keras.preprocessing.sequence import pad_sequences\n",
    "from tensorflow.keras.models import Sequential\n",
    "from tensorflow.keras.layers import Embedding, LSTM, Dense\n",
    "from sklearn.preprocessing import LabelEncoder\n",
    "from sklearn.model_selection import train_test_split"
   ]
  },
  {
   "cell_type": "code",
   "execution_count": 2,
   "metadata": {},
   "outputs": [],
   "source": [
    "# 🚀 Load your merged dataset\n",
    "df = pd.read_csv(\"cleaned_goemotions.csv\")  # Make sure this file exists"
   ]
  },
  {
   "cell_type": "code",
   "execution_count": 3,
   "metadata": {},
   "outputs": [],
   "source": [
    "# 🔄 Convert emotions to string (since they might be lists)\n",
    "df[\"emotions\"] = df[\"emotions\"].apply(eval)  # Convert string list to actual list\n",
    "df[\"emotions\"] = df[\"emotions\"].apply(lambda x: x[0] if len(x) > 0 else \"neutral\")  # Take first emotion"
   ]
  },
  {
   "cell_type": "code",
   "execution_count": 4,
   "metadata": {},
   "outputs": [],
   "source": [
    "# 🎯 Encode emotions into numeric labels\n",
    "label_encoder = LabelEncoder()\n",
    "df[\"label\"] = label_encoder.fit_transform(df[\"emotions\"])\n",
    "num_classes = len(label_encoder.classes_)  # Number of unique emotions"
   ]
  },
  {
   "cell_type": "code",
   "execution_count": 5,
   "metadata": {},
   "outputs": [],
   "source": [
    "# 📝 Text Tokenization\n",
    "tokenizer = Tokenizer(num_words=10000, oov_token=\"<OOV>\")\n",
    "tokenizer.fit_on_texts(df[\"text\"])\n",
    "sequences = tokenizer.texts_to_sequences(df[\"text\"])\n",
    "padded_sequences = pad_sequences(sequences, maxlen=50, padding=\"post\", truncating=\"post\")"
   ]
  },
  {
   "cell_type": "code",
   "execution_count": 6,
   "metadata": {},
   "outputs": [],
   "source": [
    "# 🏋️ Split into Train & Test\n",
    "X_train, X_test, y_train, y_test = train_test_split(padded_sequences, df[\"label\"], test_size=0.3, random_state=36)"
   ]
  },
  {
   "cell_type": "code",
   "execution_count": 11,
   "metadata": {},
   "outputs": [],
   "source": [
    "# 🏋️ Split into Train & Test\n",
    "X_train, X_test, y_train, y_test = train_test_split(padded_sequences, df[\"label\"], test_size=0.2, random_state=42)\n",
    "\n",
    "# 🏗️ Build LSTM Model\n",
    "model = Sequential([\n",
    "    Embedding(input_dim=10000, output_dim=128, input_length=50),\n",
    "    LSTM(64, return_sequences=True),\n",
    "    LSTM(64),\n",
    "    Dense(64, activation=\"relu\"),\n",
    "    Dense(num_classes, activation=\"softmax\")  # Softmax for multi-class classification\n",
    "])"
   ]
  },
  {
   "cell_type": "code",
   "execution_count": 12,
   "metadata": {},
   "outputs": [],
   "source": [
    "model.compile(loss=\"sparse_categorical_crossentropy\", optimizer=\"adam\", metrics=[\"accuracy\"])"
   ]
  },
  {
   "cell_type": "code",
   "execution_count": 13,
   "metadata": {},
   "outputs": [
    {
     "name": "stdout",
     "output_type": "stream",
     "text": [
      "Epoch 1/10\n",
      "5281/5281 [==============================] - 138s 26ms/step - loss: 2.5898 - accuracy: 0.3230 - val_loss: 2.3473 - val_accuracy: 0.3692\n",
      "Epoch 2/10\n",
      "5281/5281 [==============================] - 124s 24ms/step - loss: 2.2504 - accuracy: 0.3835 - val_loss: 2.1899 - val_accuracy: 0.3942\n",
      "Epoch 3/10\n",
      "5281/5281 [==============================] - 124s 23ms/step - loss: 2.0978 - accuracy: 0.4063 - val_loss: 2.1109 - val_accuracy: 0.4021\n",
      "Epoch 4/10\n",
      "5281/5281 [==============================] - 124s 23ms/step - loss: 1.9917 - accuracy: 0.4262 - val_loss: 2.0695 - val_accuracy: 0.4119\n",
      "Epoch 5/10\n",
      "5281/5281 [==============================] - 123s 23ms/step - loss: 1.9099 - accuracy: 0.4412 - val_loss: 2.0468 - val_accuracy: 0.4151\n",
      "Epoch 6/10\n",
      "5281/5281 [==============================] - 123s 23ms/step - loss: 1.8467 - accuracy: 0.4529 - val_loss: 2.0495 - val_accuracy: 0.4147\n",
      "Epoch 7/10\n",
      "5281/5281 [==============================] - 123s 23ms/step - loss: 1.7925 - accuracy: 0.4636 - val_loss: 2.0660 - val_accuracy: 0.4137\n",
      "Epoch 8/10\n",
      "5281/5281 [==============================] - 145s 28ms/step - loss: 1.7448 - accuracy: 0.4727 - val_loss: 2.0714 - val_accuracy: 0.4058\n",
      "Epoch 9/10\n",
      "5281/5281 [==============================] - 126s 24ms/step - loss: 1.6989 - accuracy: 0.4810 - val_loss: 2.0874 - val_accuracy: 0.4138\n",
      "Epoch 10/10\n",
      "5281/5281 [==============================] - 123s 23ms/step - loss: 1.6569 - accuracy: 0.4885 - val_loss: 2.1133 - val_accuracy: 0.4130\n"
     ]
    },
    {
     "data": {
      "text/plain": [
       "<keras.src.callbacks.History at 0x217f90aa110>"
      ]
     },
     "execution_count": 13,
     "metadata": {},
     "output_type": "execute_result"
    }
   ],
   "source": [
    "# 🚀 Train the Model\n",
    "model.fit(X_train, y_train, epochs=10, batch_size=32, validation_data=(X_test, y_test))\n"
   ]
  },
  {
   "cell_type": "code",
   "execution_count": 14,
   "metadata": {},
   "outputs": [
    {
     "name": "stdout",
     "output_type": "stream",
     "text": [
      "✅ Model Training Complete. Saved as 'emotion_model.h5'\n"
     ]
    },
    {
     "name": "stderr",
     "output_type": "stream",
     "text": [
      "c:\\Users\\sagar\\AppData\\Local\\Programs\\Python\\Python311\\Lib\\site-packages\\keras\\src\\engine\\training.py:3103: UserWarning: You are saving your model as an HDF5 file via `model.save()`. This file format is considered legacy. We recommend using instead the native Keras format, e.g. `model.save('my_model.keras')`.\n",
      "  saving_api.save_model(\n"
     ]
    }
   ],
   "source": [
    "# 💾 Save the Model & Tokenizer\n",
    "model.save(\"emotion_model.h5\")\n",
    "import pickle\n",
    "with open(\"tokenizer.pkl\", \"wb\") as f:\n",
    "    pickle.dump(tokenizer, f)\n",
    "\n",
    "# 🔄 Save Label Encoder\n",
    "with open(\"label_encoder.pkl\", \"wb\") as f:\n",
    "    pickle.dump(label_encoder, f)\n",
    "\n",
    "print(\"✅ Model Training Complete. Saved as 'emotion_model.h5'\")"
   ]
  }
 ],
 "metadata": {
  "kernelspec": {
   "display_name": "Python 3",
   "language": "python",
   "name": "python3"
  },
  "language_info": {
   "codemirror_mode": {
    "name": "ipython",
    "version": 3
   },
   "file_extension": ".py",
   "mimetype": "text/x-python",
   "name": "python",
   "nbconvert_exporter": "python",
   "pygments_lexer": "ipython3",
   "version": "3.11.0"
  }
 },
 "nbformat": 4,
 "nbformat_minor": 2
}
